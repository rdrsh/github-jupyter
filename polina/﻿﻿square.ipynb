{
 "cells": [
  {
   "cell_type": "markdown",
   "metadata": {},
   "source": [
    "# Площадь\n",
    "![](http://visualthink.ru/wp-content/uploads/2015/06/24.png)\n",
    "<hr>\n",
    "\n",
    "![](https://ic.pics.livejournal.com/russiandadstory/76486416/4097/4097_600.jpg)\n",
    "\n",
    "Уже не так впечатляюще, правда? Площадь Гренландии — 2 131 000 км², в то время как площадь Африки — 30 220 000 км².\n",
    "\n",
    "Что-то похожее произошло и с Россией, которая с первого взгляда просто огромна. На самом деле Африка чуть ли не вдвое больше России по площади: 30 220 000 км² против 17 100 000 км². И все в действительности выглядит вот так.\n",
    "\n",
    "![](https://ic.pics.livejournal.com/russiandadstory/76486416/4407/4407_600.jpg)\n",
    "\n",
    "Вот карта, которая отражает реальные масштабы объектов на Земле. (и то не совсем)\n",
    "\n",
    "![](https://ic.pics.livejournal.com/russiandadstory/76486416/4686/4686_600.jpg)\n",
    "\n",
    "\n"
   ]
  }
 ],
 "metadata": {
  "kernelspec": {
   "display_name": "Python 3",
   "language": "python",
   "name": "python3"
  },
  "language_info": {
   "codemirror_mode": {
    "name": "ipython",
    "version": 2
   },
   "file_extension": ".py",
   "mimetype": "text/x-python",
   "name": "python",
   "nbconvert_exporter": "python",
   "pygments_lexer": "ipython2",
   "version": "2.7.15"
  }
 },
 "nbformat": 4,
 "nbformat_minor": 2
}
